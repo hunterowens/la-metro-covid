{
 "cells": [
  {
   "cell_type": "markdown",
   "metadata": {},
   "source": [
    "# Analyzing Changes in {posted} Service from Metro\n",
    "\n",
    "The following ntoebook contains code and analysis to parse the metro GTFS file, look for changes, and visualize that using [deck GL](https://deck.gl/) \n",
    "\n",
    "We have the metro bus ridership data loaded as a `git submodule` in the `gtfs_bus` folder, you may need to run `git submodule init`. "
   ]
  },
  {
   "cell_type": "code",
   "execution_count": 22,
   "metadata": {},
   "outputs": [],
   "source": [
    "import pandas as pd\n",
    "import partridge as ptg\n",
    "import os\n",
    "import csv"
   ]
  },
  {
   "cell_type": "markdown",
   "metadata": {},
   "source": [
    "Make the data by finding all the commits in teh last year and copying them into the data folder"
   ]
  },
  {
   "cell_type": "code",
   "execution_count": 79,
   "metadata": {},
   "outputs": [],
   "source": [
    "!cd gtfs_bus && git log --since=1.year | awk '{print $5,$2,$3,$4, $7}' | tr ' ' '-' | xargs mkdir"
   ]
  },
  {
   "cell_type": "code",
   "execution_count": 63,
   "metadata": {},
   "outputs": [
    {
     "name": "stdout",
     "output_type": "stream",
     "text": [
      "6d54999\n",
      "1715a18\n",
      "ecff2cd\n",
      "da44e24\n",
      "028d666\n",
      "adfe9e0\n",
      "f57c0a3\n",
      "93b9bf5\n",
      "2a7cae7\n",
      "4a4f065\n",
      "3b0da4b\n",
      "7601182\n",
      "b288118\n",
      "a7617b4\n",
      "bcfeaef\n",
      "985a9c1\n",
      "5863ccd\n",
      "38f4bca\n"
     ]
    }
   ],
   "source": [
    "!cd gtfs_bus && git log --since=1.year | awk '{print $7}' "
   ]
  },
  {
   "cell_type": "markdown",
   "metadata": {},
   "source": [
    "couldn't figure out how to make no git versions in data, so did it by hand for 19 commits .. but I do need to get rid of the subdirectories `.git`"
   ]
  },
  {
   "cell_type": "code",
   "execution_count": null,
   "metadata": {},
   "outputs": [],
   "source": []
  }
 ],
 "metadata": {
  "kernelspec": {
   "display_name": "Python 3",
   "language": "python",
   "name": "python3"
  },
  "language_info": {
   "codemirror_mode": {
    "name": "ipython",
    "version": 3
   },
   "file_extension": ".py",
   "mimetype": "text/x-python",
   "name": "python",
   "nbconvert_exporter": "python",
   "pygments_lexer": "ipython3",
   "version": "3.8.5"
  }
 },
 "nbformat": 4,
 "nbformat_minor": 4
}
