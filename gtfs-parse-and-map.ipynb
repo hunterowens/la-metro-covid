{
 "cells": [
  {
   "cell_type": "markdown",
   "metadata": {},
   "source": [
    "# Analyzing Changes in {posted} Service from Metro\n",
    "\n",
    "The following ntoebook contains code and analysis to parse the metro GTFS file, look for changes, and visualize that using [deck GL](https://deck.gl/) \n",
    "\n",
    "We have the metro bus ridership data loaded as a `git submodule` in the `gtfs_bus` folder, you may need to run `git submodule init`. "
   ]
  },
  {
   "cell_type": "code",
   "execution_count": 22,
   "metadata": {},
   "outputs": [],
   "source": [
    "import pandas as pd\n",
    "import partridge as ptg\n",
    "import os\n",
    "import csv"
   ]
  },
  {
   "cell_type": "markdown",
   "metadata": {},
   "source": [
    "Make the data by finding all the commits in teh last year and copying them into the data folder"
   ]
  },
  {
   "cell_type": "code",
   "execution_count": 19,
   "metadata": {},
   "outputs": [],
   "source": [
    "!cd gtfs_bus && git log --since=1.year | awk '{print $7}'  >> ../data/commits.txt"
   ]
  },
  {
   "cell_type": "code",
   "execution_count": 26,
   "metadata": {},
   "outputs": [
    {
     "name": "stdout",
     "output_type": "stream",
     "text": [
      "[['b4a4975'], ['6d54999'], ['1715a18'], ['ecff2cd'], ['da44e24'], ['028d666'], ['adfe9e0'], ['f57c0a3'], ['93b9bf5'], ['2a7cae7'], ['4a4f065'], ['3b0da4b'], ['7601182'], ['b288118'], ['a7617b4'], ['bcfeaef'], ['985a9c1'], ['5863ccd'], ['38f4bca']]\n"
     ]
    }
   ],
   "source": [
    "with open('./data/commits.txt', 'r') as f: \n",
    "    reader = csv.reader(f)\n",
    "    data = list(reader)\n",
    "print(data)"
   ]
  },
  {
   "cell_type": "code",
   "execution_count": 38,
   "metadata": {},
   "outputs": [
    {
     "name": "stdout",
     "output_type": "stream",
     "text": [
      "running on hash b4a4975\n",
      "Apr 25 06:32:38\n",
      "\n",
      "running on hash 6d54999\n",
      "Apr 25 06:32:38\n",
      "\n",
      "running on hash 1715a18\n",
      "Apr 25 06:32:38\n",
      "\n",
      "running on hash ecff2cd\n",
      "Apr 25 06:32:38\n",
      "\n",
      "running on hash da44e24\n",
      "Apr 25 06:32:38\n",
      "\n",
      "running on hash 028d666\n",
      "Apr 25 06:32:38\n",
      "\n",
      "running on hash adfe9e0\n",
      "Apr 25 06:32:38\n",
      "\n",
      "running on hash f57c0a3\n",
      "Apr 25 06:32:38\n",
      "\n",
      "running on hash 93b9bf5\n",
      "Apr 25 06:32:38\n",
      "\n",
      "running on hash 2a7cae7\n",
      "Apr 25 06:32:38\n",
      "\n",
      "running on hash 4a4f065\n",
      "Apr 25 06:32:38\n",
      "\n",
      "running on hash 3b0da4b\n",
      "Apr 25 06:32:38\n",
      "\n",
      "running on hash 7601182\n",
      "Apr 25 06:32:38\n",
      "\n",
      "running on hash b288118\n",
      "Apr 25 06:32:38\n",
      "\n",
      "running on hash a7617b4\n",
      "Apr 25 06:32:38\n",
      "\n",
      "running on hash bcfeaef\n",
      "Apr 25 06:32:38\n",
      "\n",
      "running on hash 985a9c1\n",
      "Apr 25 06:32:38\n",
      "\n",
      "running on hash 5863ccd\n",
      "Apr 25 06:32:38\n",
      "\n",
      "running on hash 38f4bca\n",
      "Apr 25 06:32:38\n",
      "\n"
     ]
    }
   ],
   "source": [
    "for commit in data: \n",
    "    hash_val = commit[0]\n",
    "    print(f'running on hash {hash_val}')\n",
    "    os.chdir('./gtfs_bus')\n",
    "    os.system(f'git checkout master')\n",
    "    os.system(f'git checkout {hash_val}')\n",
    "    time = os.popen(\"git log | head -n 1  | awk '{print $2,$3,$4}'\").read()\n",
    "    print(time)\n",
    "    os.system(f'git checkout master')\n",
    "    os.chdir('..')"
   ]
  },
  {
   "cell_type": "code",
   "execution_count": 37,
   "metadata": {},
   "outputs": [
    {
     "name": "stdout",
     "output_type": "stream",
     "text": [
      "/home/hunterowens/Documents/projects/invest-metro\n"
     ]
    }
   ],
   "source": [
    "cd .."
   ]
  },
  {
   "cell_type": "code",
   "execution_count": null,
   "metadata": {},
   "outputs": [],
   "source": []
  }
 ],
 "metadata": {
  "kernelspec": {
   "display_name": "Python 3",
   "language": "python",
   "name": "python3"
  },
  "language_info": {
   "codemirror_mode": {
    "name": "ipython",
    "version": 3
   },
   "file_extension": ".py",
   "mimetype": "text/x-python",
   "name": "python",
   "nbconvert_exporter": "python",
   "pygments_lexer": "ipython3",
   "version": "3.8.5"
  }
 },
 "nbformat": 4,
 "nbformat_minor": 4
}
